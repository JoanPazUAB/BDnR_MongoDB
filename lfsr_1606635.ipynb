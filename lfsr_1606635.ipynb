{
  "cells": [
    {
      "cell_type": "markdown",
      "metadata": {
        "id": "view-in-github",
        "colab_type": "text"
      },
      "source": [
        "<a href=\"https://colab.research.google.com/github/JoanPazUAB/BDnR_MongoDB/blob/main/lfsr_1606635.ipynb\" target=\"_parent\"><img src=\"https://colab.research.google.com/assets/colab-badge.svg\" alt=\"Open In Colab\"/></a>"
      ]
    },
    {
      "cell_type": "markdown",
      "source": [
        "# Activity Pseudo-Random Generators\n",
        "---\n",
        "Name: Carla Martinez Vidal\n",
        "Niu: 1606635"
      ],
      "metadata": {
        "id": "KPzTIiMA74rD"
      }
    },
    {
      "cell_type": "markdown",
      "metadata": {
        "id": "ZKoMVrNU7AOj"
      },
      "source": [
        "# Problem 1\n",
        "\n",
        "---\n",
        "\n",
        "\n",
        "1. We are going to implement now a simple LFSR as a Python class. We will use the notation and\n",
        "structure of the LFSR described in the book (e.g. Figure 3.2). The LFSR is described with two\n",
        "main parameters:\n",
        "    1. Initial state: the value of the registers Sn, Sn−1, . . . , S2, S1. These values will be represented as\n",
        "    a numpy array of ones and zeros. Be aware of the ordering!. For example the LFSR of 4 cells\n",
        "    with initial state S4 = 1, S3 = 0, S2 = 1, S1 = 0 can be coded as: np.array([0, 1, 0, 1])\n",
        "    2. Connection polynomial (polinomi de connexions): value of the ci parameters. So the values\n",
        "    c1 = 0, c2 = 1, c3 = 0, c4 = 1 can be coded as: np.array([0, 1, 0, 1])\n",
        "\n",
        "-The constructor receives the state and feedback polynomial and should initialize the current\n",
        "state of the LFSR.\n",
        "\n",
        "-The next() method computes one step of the LFSR returning one bit as output and updating\n",
        "the current state of the LFSR.\n",
        "\n",
        "\n"
      ]
    },
    {
      "cell_type": "code",
      "execution_count": null,
      "metadata": {
        "id": "-O7F31MZ7AOm"
      },
      "outputs": [],
      "source": [
        "import numpy as np\n",
        "import math\n",
        "class LFSR():\n",
        "    def __init__(self, state: np.ndarray, pol: np.ndarray):\n",
        "        self.state = state\n",
        "        self.pol = pol\n",
        "        self.n = state.size\n",
        "\n",
        "    def next(self) -> int:\n",
        "        next_bit = self.state[-1]\n",
        "        new_bit = 0\n",
        "        for bit in range(self.n):\n",
        "            if self.pol[bit] == 1:\n",
        "                new_bit ^= self.state[bit]\n",
        "\n",
        "        self.state = np.roll(self.state, 1)\n",
        "        self.state[0] = new_bit\n",
        "        return next_bit"
      ]
    },
    {
      "cell_type": "markdown",
      "metadata": {
        "id": "V4S-JMKS7AOo"
      },
      "source": [
        "In order to verify the code, your LFSR implementation should generate the following sequences when\n",
        "using the following parameters:"
      ]
    },
    {
      "cell_type": "code",
      "execution_count": null,
      "metadata": {
        "id": "S8zC5jtq7AOo",
        "outputId": "e0b412dc-77a2-4375-ec1a-fecfc05a60e5"
      },
      "outputs": [
        {
          "name": "stdout",
          "output_type": "stream",
          "text": [
            "Test sequence 1:[1 0 1 0 1 0 1 0 1 0 1 0 1 0 1 0 1 0 1 0]\n",
            "Test sequence 2:[1 0 0 0 1 0 1 1 0 0 0 1 0 1 1 0 0 0 1 0]\n"
          ]
        }
      ],
      "source": [
        "test_s1 = np.array([1,0,1])\n",
        "test_c1 = np.array([1,1,1])\n",
        "test_lfsr1 = LFSR(test_s1, test_c1)\n",
        "test_seq1 = np.array([test_lfsr1.next() for _ in range(20)])\n",
        "print(f\"Test sequence 1:{test_seq1}\")\n",
        "test_s2 = np.array([1,0,0,0,1])\n",
        "test_c2 = np.array([1,1,0,0,1])\n",
        "test_lfsr2 = LFSR(test_s2, test_c2)\n",
        "test_seq2 = np.array([test_lfsr2.next() for _ in range(20)])\n",
        "print(f\"Test sequence 2:{test_seq2}\")\n"
      ]
    },
    {
      "cell_type": "markdown",
      "metadata": {
        "id": "mt03lbtn7AOp"
      },
      "source": [
        "# Problem 2\n",
        "\n",
        "---\n",
        "\n",
        "\n",
        "2. With the LFSR we have implemented, generate the sequences of length 1000 bits, with the corresponding initial state si and initial values for ci:\n"
      ]
    },
    {
      "cell_type": "code",
      "execution_count": null,
      "metadata": {
        "id": "Rs-4PWZC7AOp"
      },
      "outputs": [],
      "source": [
        "s1 = np.array([1,1,1,1,1,1])\n",
        "c1 = np.array([1,0,0,0,0,1])\n",
        "seclfsr1 = LFSR(s1, c1)\n",
        "seq1 = np.array([seclfsr1.next() for _ in range(1000)])\n",
        "#SECUENCIA 1\n",
        "s2 = np.array([1,0,0,1,1,1])\n",
        "c2 = np.array([1,0,0,1,1,0])\n",
        "seclfsr2 = LFSR(s2, c2)\n",
        "seq2 = np.array([seclfsr2.next() for _ in range(1000)])\n",
        "#SECUENCIA 2\n",
        "s3 = np.array([1,0,0,0,0,0])\n",
        "c3 = np.array([0,0,0,0,1,0])\n",
        "seclfsr3 = LFSR(s3, c3)\n",
        "seq3 = np.array([seclfsr3.next() for _ in range(1000)])\n",
        "#SECUENCIA 3"
      ]
    },
    {
      "cell_type": "markdown",
      "metadata": {
        "id": "2DiUCYmU7AOp"
      },
      "source": [
        "# Problem 3\n",
        "\n",
        "---\n",
        "\n",
        "\n",
        "3. Implement in Python the 3 tests from the NIST Test Suite for Random Number Generators (RNGs)\n",
        "described in the book.\n"
      ]
    },
    {
      "cell_type": "markdown",
      "metadata": {
        "id": "80Qu2UIk7AOq"
      },
      "source": [
        "# TEST 1:\n",
        "\n",
        "---\n",
        "\n",
        "\n",
        "El test de freqüència de bits individuals comprova que la\n",
        "proporció d’uns i zeros de la seqüència proporcionada és\n",
        "similar.\n",
        "Per fer-ho, en primer lloc es transforma la seqüència binària\n",
        "d’entrada a una seqüència de 1 i -1:"
      ]
    },
    {
      "cell_type": "code",
      "execution_count": null,
      "metadata": {
        "id": "11z6koPt7AOq"
      },
      "outputs": [],
      "source": [
        "\n",
        "def rng_test_1(seq: np.ndarray) -> tuple[bool, float]:\n",
        "\n",
        "\n",
        "    seq_1 = np.where(seq == 0, -1, 1)\n",
        "    s_obs = np.sum(seq_1) / np.sqrt(seq_1.size)\n",
        "    p_value = math.erfc(s_obs / math.sqrt(2))\n",
        "\n",
        "    return p_value >= 0.01, p_value\n",
        ""
      ]
    },
    {
      "cell_type": "code",
      "execution_count": null,
      "metadata": {
        "id": "2Q0QA4Hc7AOq",
        "outputId": "b0bf9425-f184-4e2f-ae38-48d8fb7ffc3a"
      },
      "outputs": [
        {
          "name": "stdout",
          "output_type": "stream",
          "text": [
            "True 0.8348273291852392\n"
          ]
        }
      ],
      "source": [
        "sequence = np.array([1,0,0,1,1,0,1,0,0,0,0,1,1,1,1,0,1,0,1,1,0,0,1])\n",
        "b,f = rng_test_1(sequence)\n",
        "print(b,f)"
      ]
    },
    {
      "cell_type": "markdown",
      "metadata": {
        "id": "MhkM2lwD7AOr"
      },
      "source": [
        "# TEST 2:\n",
        "\n",
        "---\n",
        "\n",
        "\n",
        "El freqüència en un bloc comprova que el número de 0/1 en un bloc de m bits sigui\n",
        "aproximadament m/2. Per fer-ho, es particiona la seqüència a avaluar en b = n / m\n",
        "blocs de m bits, descartant els bits sobrants\n"
      ]
    },
    {
      "cell_type": "code",
      "execution_count": null,
      "metadata": {
        "id": "dzs1OFq-7AOr"
      },
      "outputs": [],
      "source": [
        "from scipy.special import gammainc\n",
        "def rng_test_2(seq: np.ndarray, m: int = 10) -> tuple[bool, float]:\n",
        "\n",
        "    b = seq.size // m\n",
        "    x_obs = 0\n",
        "    for i in range(0,seq.size,m):\n",
        "        pi_k = np.sum(seq[i:i+m]) / m\n",
        "        x_obs += ((pi_k) - 0.5 )**2\n",
        "\n",
        "    x_obs = 4*m*x_obs\n",
        "    p_value = float(gammainc(b / 2, x_obs / 2))\n",
        "    return p_value >= 0.01, p_value\n",
        ""
      ]
    },
    {
      "cell_type": "code",
      "execution_count": null,
      "metadata": {
        "id": "3INW7x_N7AOr",
        "outputId": "71c5c30f-8d53-4444-cbdc-cb8db7df0781"
      },
      "outputs": [
        {
          "name": "stdout",
          "output_type": "stream",
          "text": [
            "True 0.9850044231795223\n"
          ]
        }
      ],
      "source": [
        "sequence = np.array([1,0,0,1,1,0,1,0,0,0,0,1,1,1,1,0,1,0,1,1,0,0,1])\n",
        "b,f = rng_test_2(sequence)\n",
        "print(b,f)"
      ]
    },
    {
      "cell_type": "markdown",
      "metadata": {
        "id": "a7Swi3_47AOr"
      },
      "source": [
        "# TEST 3:\n",
        "\n",
        "---\n",
        "\n",
        "\n",
        "El test de ràfegues comprova si el número de ràfegues tant d’uns com de zeros de la\n",
        "seqüència (N>100) s’assembla al que trobaríem en una seqüència aleatòria.\n",
        "Definirem una ràfega com un conjunt de bits consecutius iguals, és a dir una ràfega de\n",
        "longitud k consta dels elements"
      ]
    },
    {
      "cell_type": "code",
      "execution_count": null,
      "metadata": {
        "id": "2I2hZybA7AOr"
      },
      "outputs": [],
      "source": [
        "def rng_test_3(seq: np.ndarray) -> tuple[bool, float]:\n",
        "\n",
        "    v_obs = 1\n",
        "    for i in range(seq.size-1):\n",
        "        if seq[i] != seq[i+1]: v_obs +=1\n",
        "\n",
        "    pi = sum(seq) / len(seq)\n",
        "    numerator = abs(v_obs - (2.0 * len(seq) * pi * (1.0 - pi)))\n",
        "    denominator = 2.0 * math.sqrt(2.0 * len(seq)) * pi * (1.0 - pi)\n",
        "    value = math.erfc(numerator / denominator)\n",
        "    return value >= 0.01, value\n",
        ""
      ]
    },
    {
      "cell_type": "code",
      "execution_count": null,
      "metadata": {
        "id": "MFw0psqd7AOr",
        "outputId": "d8224865-788a-4766-e190-2ae168b6ec32"
      },
      "outputs": [
        {
          "name": "stdout",
          "output_type": "stream",
          "text": [
            "True 0.5248996186322457\n"
          ]
        }
      ],
      "source": [
        "sequence = np.array([1,0,0,1,1,0,1,0,0,0,0,1,1,1,1,0,1,0,1,1,0,0,1])\n",
        "b,f = rng_test_3(sequence)\n",
        "print(b,f)"
      ]
    },
    {
      "cell_type": "markdown",
      "metadata": {
        "id": "oJR5LLtw7AOs"
      },
      "source": [
        "# Problem 4\n",
        "\n",
        "---\n",
        "\n",
        "\n",
        "4. For each sequence in question 2, run the three tests from question 3."
      ]
    },
    {
      "cell_type": "code",
      "execution_count": null,
      "metadata": {
        "id": "1z5lNa1Q7AOs",
        "outputId": "8a7a37b0-82ef-4674-b115-10773150ffb0"
      },
      "outputs": [
        {
          "name": "stdout",
          "output_type": "stream",
          "text": [
            "test: rng_test_1 secuencia 1 resultado (True, 0.48661604576405054)\n",
            "test: rng_test_2 secuencia 1 resultado (True, 0.08452672009769412)\n",
            "test: rng_test_3 secuencia 1 resultado (True, 0.5169366858432001)\n",
            "test: rng_test_1 secuencia 2 resultado (True, 0.9495709711511051)\n",
            "test: rng_test_2 secuencia 2 resultado (False, 3.04279258146972e-100)\n",
            "test: rng_test_3 secuencia 2 resultado (True, 0.999899074295685)\n",
            "test: rng_test_1 secuencia 3 resultado (True, 2.0)\n",
            "test: rng_test_2 secuencia 3 resultado (True, 1.0)\n",
            "test: rng_test_3 secuencia 3 resultado (False, 1.7835329586941085e-15)\n"
          ]
        }
      ],
      "source": [
        "secuencias = [seq1,seq2,seq3]\n",
        "tests = [rng_test_1,rng_test_2,rng_test_3]\n",
        "for i in range(len(secuencias)):\n",
        "    for test in tests:\n",
        "        print(f\"test: {test.__name__} secuencia {i+1} resultado {test(secuencias[i])}\")\n",
        ""
      ]
    },
    {
      "cell_type": "markdown",
      "source": [
        "LINK COLAB: https://drive.google.com/file/d/1bU46K0-yTLMWgK__qhwhc01dam3_W5sK/view?usp=sharing\n"
      ],
      "metadata": {
        "id": "cNnmTjZ-7NtD"
      }
    }
  ],
  "metadata": {
    "kernelspec": {
      "display_name": "Python 3",
      "language": "python",
      "name": "python3"
    },
    "language_info": {
      "codemirror_mode": {
        "name": "ipython",
        "version": 3
      },
      "file_extension": ".py",
      "mimetype": "text/x-python",
      "name": "python",
      "nbconvert_exporter": "python",
      "pygments_lexer": "ipython3",
      "version": "3.10.11"
    },
    "colab": {
      "provenance": [],
      "include_colab_link": true
    }
  },
  "nbformat": 4,
  "nbformat_minor": 0
}